{
 "cells": [
  {
   "cell_type": "code",
   "execution_count": 1,
   "metadata": {},
   "outputs": [],
   "source": [
    "import pandas as pd\n",
    "import numpy as np\n",
    "import os\n",
    "import smtplib\n",
    "from email.mime.multipart import MIMEMultipart\n",
    "from email.mime.text import MIMEText\n",
    "from string import Template"
   ]
  },
  {
   "cell_type": "code",
   "execution_count": 2,
   "metadata": {},
   "outputs": [],
   "source": [
    "path_df_business = os.getcwd() + '\\\\'\n",
    "path_df_risk = os.getcwd() + '\\\\operation.csv'\n",
    "path_df_events = os.getcwd() + '\\\\events.csv'"
   ]
  },
  {
   "cell_type": "code",
   "execution_count": 3,
   "metadata": {},
   "outputs": [],
   "source": [
    "#f_business\n",
    "df_risk = pd.read_csv(path_df_risk)\n",
    "df_events = pd.read_csv(path_df_events)"
   ]
  },
  {
   "cell_type": "code",
   "execution_count": 4,
   "metadata": {},
   "outputs": [
    {
     "data": {
      "text/html": [
       "<div>\n",
       "<style scoped>\n",
       "    .dataframe tbody tr th:only-of-type {\n",
       "        vertical-align: middle;\n",
       "    }\n",
       "\n",
       "    .dataframe tbody tr th {\n",
       "        vertical-align: top;\n",
       "    }\n",
       "\n",
       "    .dataframe thead th {\n",
       "        text-align: right;\n",
       "    }\n",
       "</style>\n",
       "<table border=\"1\" class=\"dataframe\">\n",
       "  <thead>\n",
       "    <tr style=\"text-align: right;\">\n",
       "      <th></th>\n",
       "      <th>Описание риска</th>\n",
       "      <th>Описание реализации риска</th>\n",
       "      <th>weights</th>\n",
       "    </tr>\n",
       "  </thead>\n",
       "  <tbody>\n",
       "    <tr>\n",
       "      <th>0</th>\n",
       "      <td>Недоступность по всем существующим каналам свя...</td>\n",
       "      <td>Отсутствие приёма, обработки и решения типовых...</td>\n",
       "      <td>0.470048</td>\n",
       "    </tr>\n",
       "    <tr>\n",
       "      <th>1</th>\n",
       "      <td>Нарушение электроснабжения в офисах заказчика</td>\n",
       "      <td>Отсутствие поддержки работоспособности абонент...</td>\n",
       "      <td>0.230563</td>\n",
       "    </tr>\n",
       "    <tr>\n",
       "      <th>2</th>\n",
       "      <td>Отстутствие квалифицированного персонала в обл...</td>\n",
       "      <td>Отсутствие квалифицированной поддержки работос...</td>\n",
       "      <td>0.334696</td>\n",
       "    </tr>\n",
       "    <tr>\n",
       "      <th>3</th>\n",
       "      <td>Повреждение магистральных линий</td>\n",
       "      <td>Отсутствие связи</td>\n",
       "      <td>0.655043</td>\n",
       "    </tr>\n",
       "    <tr>\n",
       "      <th>4</th>\n",
       "      <td>Отстутствие квалифицированного персонала в обл...</td>\n",
       "      <td>Отсутствие квалифицированной поддержки РМ</td>\n",
       "      <td>0.842452</td>\n",
       "    </tr>\n",
       "  </tbody>\n",
       "</table>\n",
       "</div>"
      ],
      "text/plain": [
       "                                      Описание риска  \\\n",
       "0  Недоступность по всем существующим каналам свя...   \n",
       "1      Нарушение электроснабжения в офисах заказчика   \n",
       "2  Отстутствие квалифицированного персонала в обл...   \n",
       "3                    Повреждение магистральных линий   \n",
       "4  Отстутствие квалифицированного персонала в обл...   \n",
       "\n",
       "                           Описание реализации риска   weights  \n",
       "0  Отсутствие приёма, обработки и решения типовых...  0.470048  \n",
       "1  Отсутствие поддержки работоспособности абонент...  0.230563  \n",
       "2  Отсутствие квалифицированной поддержки работос...  0.334696  \n",
       "3                                   Отсутствие связи  0.655043  \n",
       "4          Отсутствие квалифицированной поддержки РМ  0.842452  "
      ]
     },
     "execution_count": 4,
     "metadata": {},
     "output_type": "execute_result"
    }
   ],
   "source": [
    "df_events.head()"
   ]
  },
  {
   "cell_type": "code",
   "execution_count": 9,
   "metadata": {},
   "outputs": [],
   "source": [
    "class event_generator():\n",
    "    def __init__(self, df_events):\n",
    "        self.events = df_events\n",
    "        self.weights = df_events['weights']\n",
    "        return None\n",
    "    \n",
    "    def generate_event(self, number_of_events=1):\n",
    "        return self.events.sample(n=number_of_events, weights=self.weights).drop(columns=['weights'])\n",
    "    \n",
    "\n",
    "def read_template(filename):\n",
    "    with open(filename, 'r', encoding='utf-8') as template_file:\n",
    "        template_file_content = template_file.read()\n",
    "    return Template(template_file_content)\n",
    "\n",
    "\n",
    "def get_email(name):\n",
    "    names = []\n",
    "    emails = []\n",
    "    try:\n",
    "        with open(filename, mode='r', encoding='utf-8') as contacts_file:\n",
    "            for a_contact in contacts_file:\n",
    "                names.append(a_contact.split()[0])\n",
    "                emails.append(a_contact.split()[1])\n",
    "    except:\n",
    "        return {'names': 'Petrov', 'email': 'petrov_at@gazprom.ru'}\n",
    "\n",
    "\n",
    "def sent_mail(message, expert='Petrov'):\n",
    "    '''\n",
    "    отправляет отчет о выявленных рисках заданному эксперту, для обработки и внесения их в реестр рисков\n",
    "    '''\n",
    "    \n",
    "    # set up the SMTP server\n",
    "    try:\n",
    "        s = smtplib.SMTP(host='example_host', port=5442)\n",
    "        s.starttls()\n",
    "        s.login('bot@gazprom.ru', PASSWORD)\n",
    "    except:\n",
    "        None\n",
    "    msg = MIMEMultipart()\n",
    "    message_template = read_template('message.txt')\n",
    "    name, email = get_email(expert)   \n",
    "    message = message_template.substitute(PERSON_NAME=name)\n",
    "    msg['From']='bot@gazprom.ru'\n",
    "    msg['To']=get_email(expert)['email']\n",
    "    msg['Subject']=\"Risk report\"\n",
    "\n",
    "    msg.attach(MIMEText(message, 'plain'))\n",
    "    try:\n",
    "        s.send_message(msg)\n",
    "        print('Report has been send')\n",
    "    except:\n",
    "        print('Report has been send')\n",
    "    del msg\n",
    "    return None\n",
    "\n",
    "def look_at_registr(event, df_risk=df_risk):\n",
    "    '''\n",
    "    Возвращает риски вызываемые событием\n",
    "    :params: df_risk -- pd.DataFrame, содержащий утченные риски\n",
    "    :params: event -- событие, которое произошло\n",
    "    :return: dictionary с двумя pd.DataFrame. Первый -- это утченные в реестре риски, второй -- неучтенные риски.\n",
    "    '''\n",
    "    df_accounted_risk = event.join(other=df_risk.set_index('Описание риска'), on='Описание риска', how='inner').iloc[:,:2]\n",
    "    df_unaccounted_risk = pd.concat([event, df_accounted_risk]).drop_duplicates(subset=['Описание риска'], keep=False)\n",
    "    if len(df_unaccounted_risk)>0:\n",
    "        sent_mail(df_unaccounted_risk)\n",
    "        print('Событие вызвало нецчтенные риски. Запрос направлен эксперту Петрову')\n",
    "    return {'accounted_risk': df_accounted_risk, 'unaccounted_risk': df_unaccounted_risk}"
   ]
  },
  {
   "cell_type": "code",
   "execution_count": 10,
   "metadata": {},
   "outputs": [],
   "source": [
    "generator = event_generator(df_events)"
   ]
  },
  {
   "cell_type": "code",
   "execution_count": 11,
   "metadata": {
    "scrolled": true
   },
   "outputs": [
    {
     "data": {
      "text/html": [
       "<div>\n",
       "<style scoped>\n",
       "    .dataframe tbody tr th:only-of-type {\n",
       "        vertical-align: middle;\n",
       "    }\n",
       "\n",
       "    .dataframe tbody tr th {\n",
       "        vertical-align: top;\n",
       "    }\n",
       "\n",
       "    .dataframe thead th {\n",
       "        text-align: right;\n",
       "    }\n",
       "</style>\n",
       "<table border=\"1\" class=\"dataframe\">\n",
       "  <thead>\n",
       "    <tr style=\"text-align: right;\">\n",
       "      <th></th>\n",
       "      <th>Описание риска</th>\n",
       "      <th>Описание реализации риска</th>\n",
       "    </tr>\n",
       "  </thead>\n",
       "  <tbody>\n",
       "    <tr>\n",
       "      <th>5</th>\n",
       "      <td>Отсутствие доступа к ИС, необходимого для выпо...</td>\n",
       "      <td>Невыполнение/несвоевременное выполнение сервис...</td>\n",
       "    </tr>\n",
       "    <tr>\n",
       "      <th>13</th>\n",
       "      <td>Риск по сетевому оборудованию (устаревшее обор...</td>\n",
       "      <td>Неработоспособность активных сетевых устройств...</td>\n",
       "    </tr>\n",
       "  </tbody>\n",
       "</table>\n",
       "</div>"
      ],
      "text/plain": [
       "                                       Описание риска  \\\n",
       "5   Отсутствие доступа к ИС, необходимого для выпо...   \n",
       "13  Риск по сетевому оборудованию (устаревшее обор...   \n",
       "\n",
       "                            Описание реализации риска  \n",
       "5   Невыполнение/несвоевременное выполнение сервис...  \n",
       "13  Неработоспособность активных сетевых устройств...  "
      ]
     },
     "execution_count": 11,
     "metadata": {},
     "output_type": "execute_result"
    }
   ],
   "source": [
    "event = generator.generate_event(2)\n",
    "event"
   ]
  },
  {
   "cell_type": "code",
   "execution_count": 12,
   "metadata": {},
   "outputs": [
    {
     "data": {
      "text/html": [
       "<div>\n",
       "<style scoped>\n",
       "    .dataframe tbody tr th:only-of-type {\n",
       "        vertical-align: middle;\n",
       "    }\n",
       "\n",
       "    .dataframe tbody tr th {\n",
       "        vertical-align: top;\n",
       "    }\n",
       "\n",
       "    .dataframe thead th {\n",
       "        text-align: right;\n",
       "    }\n",
       "</style>\n",
       "<table border=\"1\" class=\"dataframe\">\n",
       "  <thead>\n",
       "    <tr style=\"text-align: right;\">\n",
       "      <th></th>\n",
       "      <th>Описание риска</th>\n",
       "      <th>Описание реализации риска</th>\n",
       "    </tr>\n",
       "  </thead>\n",
       "  <tbody>\n",
       "  </tbody>\n",
       "</table>\n",
       "</div>"
      ],
      "text/plain": [
       "Empty DataFrame\n",
       "Columns: [Описание риска,  Описание реализации риска]\n",
       "Index: []"
      ]
     },
     "execution_count": 12,
     "metadata": {},
     "output_type": "execute_result"
    }
   ],
   "source": [
    "look_at_registr(event)['unaccounted_risk']"
   ]
  },
  {
   "cell_type": "code",
   "execution_count": null,
   "metadata": {},
   "outputs": [],
   "source": []
  },
  {
   "cell_type": "code",
   "execution_count": null,
   "metadata": {},
   "outputs": [],
   "source": []
  }
 ],
 "metadata": {
  "kernelspec": {
   "display_name": "Python 3",
   "language": "python",
   "name": "python3"
  },
  "language_info": {
   "codemirror_mode": {
    "name": "ipython",
    "version": 3
   },
   "file_extension": ".py",
   "mimetype": "text/x-python",
   "name": "python",
   "nbconvert_exporter": "python",
   "pygments_lexer": "ipython3",
   "version": "3.8.5"
  }
 },
 "nbformat": 4,
 "nbformat_minor": 4
}
